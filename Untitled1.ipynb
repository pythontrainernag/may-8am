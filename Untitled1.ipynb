{
 "cells": [
  {
   "cell_type": "markdown",
   "metadata": {},
   "source": [
    "python is dynamic typing programing language\n",
    "\n",
    "The variables and data types are implicit in python"
   ]
  },
  {
   "cell_type": "markdown",
   "metadata": {},
   "source": [
    "# In other languages\n",
    "int a;\n",
    "\n",
    "a = 10\n",
    "\n",
    "int b = 20;\n",
    "\n",
    "float c = 10.5;\n",
    "\n",
    "In ablove examples explicitly we are saying the variable a must be a interger data type\n"
   ]
  },
  {
   "cell_type": "markdown",
   "metadata": {},
   "source": [
    "# In python\n",
    "a = 10\n",
    "\n",
    "b = 20.5\n",
    "\n",
    "we are not saying that a must be a interger data type. But based on value on right side(10) Python automatically declares \"a\" as a integer data types\n",
    "\n",
    "\n",
    "\n",
    "\n"
   ]
  },
  {
   "cell_type": "markdown",
   "metadata": {},
   "source": [
    "# Other languages\n",
    "flaot b = 10.5;\n",
    "\n",
    "int a = 15\n",
    "\n",
    "int c;\n",
    "\n",
    "c = a+b\n",
    "\n",
    "explicitly we have to convert b to float type and then only we can add a and b\n",
    "\n",
    "\n",
    "\n",
    "\n",
    "\n",
    "\n",
    "\n"
   ]
  },
  {
   "cell_type": "code",
   "execution_count": 3,
   "metadata": {},
   "outputs": [
    {
     "name": "stdout",
     "output_type": "stream",
     "text": [
      "25.5\n"
     ]
    }
   ],
   "source": [
    "a = 10.5\n",
    "b = 15\n",
    "c = a+b\n",
    "print c"
   ]
  },
  {
   "cell_type": "code",
   "execution_count": null,
   "metadata": {},
   "outputs": [],
   "source": []
  }
 ],
 "metadata": {
  "kernelspec": {
   "display_name": "Python 2",
   "language": "python",
   "name": "python2"
  },
  "language_info": {
   "codemirror_mode": {
    "name": "ipython",
    "version": 2
   },
   "file_extension": ".py",
   "mimetype": "text/x-python",
   "name": "python",
   "nbconvert_exporter": "python",
   "pygments_lexer": "ipython2",
   "version": "2.7.15"
  }
 },
 "nbformat": 4,
 "nbformat_minor": 2
}
