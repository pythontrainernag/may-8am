{
 "cells": [
  {
   "cell_type": "markdown",
   "metadata": {},
   "source": [
    "Generally a programm will execute on line by line basis.\n"
   ]
  },
  {
   "cell_type": "code",
   "execution_count": 1,
   "metadata": {},
   "outputs": [
    {
     "name": "stdout",
     "output_type": "stream",
     "text": [
      "Hello World\n"
     ]
    }
   ],
   "source": [
    "print \"Hello World\""
   ]
  },
  {
   "cell_type": "markdown",
   "metadata": {},
   "source": [
    "Control flow has been divided into 3 types:\n",
    "    1. Conditional Statements\n",
    "    2. Iterative Statements/Loops\n",
    "    3. Transfer Statements"
   ]
  },
  {
   "cell_type": "markdown",
   "metadata": {},
   "source": [
    "# Conditional Statements"
   ]
  },
  {
   "cell_type": "markdown",
   "metadata": {},
   "source": [
    "executing a block of statements/lines based on condition is called conditional statements"
   ]
  },
  {
   "cell_type": "markdown",
   "metadata": {},
   "source": [
    "Condition?\n",
    "    1. Any statement where outcome is a boolean(True or False)\n",
    "    2. Using the relation operators between two similiar data types.(3>2)\n",
    "\n",
    "we have already discussed that the come of a relational operators is always boolean.\n",
    "examples:\n",
    "    1. 3>2 ---> True ---> condition\n",
    "    2. 5<=2 ----> False ----> condition\n",
    "    3. True ----> True ----> condition\n",
    "    4. 5 -----> bool(5) ---> True ----> condition\n",
    "\n",
    "\n",
    "\n",
    "\n",
    "\n",
    "\n",
    "\n",
    "\n"
   ]
  },
  {
   "cell_type": "markdown",
   "metadata": {},
   "source": [
    "To implement the conditional statements, I will be using keywords if, elif and else\n",
    "\n",
    "\n",
    "\n",
    "\n",
    "\n",
    "\n",
    "\n"
   ]
  },
  {
   "cell_type": "markdown",
   "metadata": {},
   "source": [
    "# scenario 1\n",
    "conditional statement:\n",
    "    1. execute block of statements only if condition satisfies(condition outcome id True)"
   ]
  },
  {
   "cell_type": "code",
   "execution_count": 3,
   "metadata": {},
   "outputs": [],
   "source": [
    "# if <condition>:\n",
    "#      block of statements\n",
    "# Block of statements has to be written with indent number of spaces(even number of spaces)"
   ]
  },
  {
   "cell_type": "markdown",
   "metadata": {},
   "source": [
    "I have to travel to chennai only by train. If the tickets are available for train then only book the tickets"
   ]
  },
  {
   "cell_type": "code",
   "execution_count": 4,
   "metadata": {},
   "outputs": [
    {
     "name": "stdout",
     "output_type": "stream",
     "text": [
      "tickets has been booked\n"
     ]
    }
   ],
   "source": [
    "tickets_available = True\n",
    "if tickets_available:\n",
    "    print \"tickets has been booked\""
   ]
  },
  {
   "cell_type": "code",
   "execution_count": 6,
   "metadata": {},
   "outputs": [],
   "source": [
    "tickets_available = False\n",
    "if tickets_available:\n",
    "    print \"tickets has been booked\"    "
   ]
  },
  {
   "cell_type": "markdown",
   "metadata": {},
   "source": [
    "Read two values from console and assign them to a and b. Now find the biggest value among a and b"
   ]
  },
  {
   "cell_type": "markdown",
   "metadata": {},
   "source": [
    "# Scenarion 2\n",
    "execute block of statements if condition satisfies otherwise execute alternative block of statements"
   ]
  },
  {
   "cell_type": "code",
   "execution_count": 1,
   "metadata": {},
   "outputs": [
    {
     "name": "stdout",
     "output_type": "stream",
     "text": [
      "enter first value 10\n",
      "enter second value 20\n",
      "b is greater\n"
     ]
    }
   ],
   "source": [
    "# Here we will be introducing one more keyword called else\n",
    "a = int(raw_input(\"enter first value \"))\n",
    "b = int(raw_input(\"enter second value \"))\n",
    "if a>b:\n",
    "    print \"a is greater\"\n",
    "else:\n",
    "    print \"b is greater\""
   ]
  },
  {
   "cell_type": "code",
   "execution_count": 2,
   "metadata": {},
   "outputs": [
    {
     "name": "stdout",
     "output_type": "stream",
     "text": [
      "enter first value 20\n",
      "enter second value 10\n",
      "a is greater\n"
     ]
    }
   ],
   "source": [
    "# Here we will be introducing one more keyword called else\n",
    "a = int(raw_input(\"enter first value \"))\n",
    "b = int(raw_input(\"enter second value \"))\n",
    "if a>b:\n",
    "    print \"a is greater\"\n",
    "else:\n",
    "    print \"b is greater\""
   ]
  },
  {
   "cell_type": "markdown",
   "metadata": {},
   "source": [
    "Book the tickets for chennai express(train) if available otherwise book the tickets for bus"
   ]
  },
  {
   "cell_type": "code",
   "execution_count": 7,
   "metadata": {},
   "outputs": [
    {
     "name": "stdout",
     "output_type": "stream",
     "text": [
      "enter tickets availability yes/no yes\n",
      "tickets has been booked for train\n"
     ]
    }
   ],
   "source": [
    "tickets_available_train = raw_input(\"enter tickets availability yes/no \")\n",
    "if tickets_available_train == \"yes\":\n",
    "    print \"tickets has been booked for train\"\n",
    "else:\n",
    "    print \"tickets has been booked for bus\""
   ]
  },
  {
   "cell_type": "code",
   "execution_count": 8,
   "metadata": {},
   "outputs": [
    {
     "name": "stdout",
     "output_type": "stream",
     "text": [
      "enter tickets availability yes/no no\n",
      "tickets has been booked for bus\n"
     ]
    }
   ],
   "source": [
    "tickets_available_train = raw_input(\"enter tickets availability yes/no \")\n",
    "if tickets_available_train == \"yes\":\n",
    "    print \"tickets has been booked for train\"\n",
    "else:\n",
    "    print \"tickets has been booked for bus\""
   ]
  },
  {
   "cell_type": "markdown",
   "metadata": {},
   "source": [
    "# scenario 3\n",
    "execute block of statements based on compound condition"
   ]
  },
  {
   "cell_type": "markdown",
   "metadata": {},
   "source": [
    "Compound condition? ===> combination of two or more conditions\n",
    "Here we are going to combine multiple conditions by using logical operators--->and or operators"
   ]
  },
  {
   "cell_type": "markdown",
   "metadata": {},
   "source": [
    "a = 5\n",
    "b = 10\n",
    "c = 7\n",
    "# to check whether a is greater or not\n",
    "if a is greater than b as well as a is greater than c then I will say a is greater\n",
    "conditions: \n",
    "    1. a > b\n",
    "    2. a > c\n",
    "I have to use this two conditions as one. \n",
    "In order to say \\\"a\\\" contains greater value, condition 1 and 2 has to be satisfies. It indicates that whenever condition1 is True and condition2 is True then only compound condition should satisfy.\n",
    "\n",
    "So the best possible operator to combine the conditions is and operator\n",
    "\n",
    "\n",
    "\n"
   ]
  },
  {
   "cell_type": "code",
   "execution_count": 9,
   "metadata": {},
   "outputs": [
    {
     "name": "stdout",
     "output_type": "stream",
     "text": [
      "False\n"
     ]
    }
   ],
   "source": [
    "a = 5\n",
    "b = 10\n",
    "c = 3\n",
    "print a>b and a>c"
   ]
  },
  {
   "cell_type": "code",
   "execution_count": 10,
   "metadata": {},
   "outputs": [
    {
     "name": "stdout",
     "output_type": "stream",
     "text": [
      "True\n"
     ]
    }
   ],
   "source": [
    "print a>b or a>c"
   ]
  },
  {
   "cell_type": "code",
   "execution_count": 12,
   "metadata": {},
   "outputs": [
    {
     "name": "stdout",
     "output_type": "stream",
     "text": [
      "enter first vaalue 5\n",
      "enter second value25\n",
      "enter third value15\n",
      "b is greater\n"
     ]
    }
   ],
   "source": [
    "a = int(raw_input(\"enter first vaalue \"))\n",
    "b = int(raw_input(\"enter second value\"))\n",
    "c = int(raw_input(\"enter third value\"))\n",
    "if a>b and a>c:\n",
    "    print \"a is greater\"\n",
    "if b>a and b>c:\n",
    "    print \"b is greater\"\n",
    "if c>a and c>b:\n",
    "    print \"c is greater\""
   ]
  },
  {
   "cell_type": "markdown",
   "metadata": {},
   "source": [
    "# Task\n",
    "I have to travel from Hyderabad to Rameshawaram. I don't have direct trains from hyderabad to Rameshawaram. So I have to make break journey via chennai\n",
    "\n",
    "In this scenario if I want to book the tickets, tickets should be available from Hyd to chennai, chennai to Rameshwaram. Also there should be gap of minimum 2 hours between two hours"
   ]
  },
  {
   "cell_type": "code",
   "execution_count": 14,
   "metadata": {},
   "outputs": [
    {
     "name": "stdout",
     "output_type": "stream",
     "text": [
      "enter tickets availability yes/no yes\n",
      "enter tickets availability for 2nd train yes/no yes\n",
      "enter no. of hours gap between trains 3\n"
     ]
    }
   ],
   "source": [
    "ticket_hyd = raw_input(\"enter tickets availability yes/no \")\n",
    "ticket_chn = raw_input(\"enter tickets availability for 2nd train yes/no \")\n",
    "gap = int(raw_input(\"enter no. of hours gap between trains \"))"
   ]
  },
  {
   "cell_type": "code",
   "execution_count": 15,
   "metadata": {},
   "outputs": [
    {
     "name": "stdout",
     "output_type": "stream",
     "text": [
      "tickets has been booked\n"
     ]
    }
   ],
   "source": [
    "if ticket_hyd == \"yes\" and ticket_chn == \"yes\" and gap >= 2:\n",
    "    print \"tickets has been booked\""
   ]
  },
  {
   "cell_type": "markdown",
   "metadata": {},
   "source": [
    "# Scenarion 4\n",
    "maintaining multiple alternatives\n",
    "\n",
    "for a single alternative we have used the else keyword \n",
    "\n",
    "for multiple alternatives we will introduce elif keyword"
   ]
  },
  {
   "cell_type": "code",
   "execution_count": 17,
   "metadata": {},
   "outputs": [
    {
     "name": "stdout",
     "output_type": "stream",
     "text": [
      "enter first vaalue 10\n",
      "enter second value20\n",
      "enter third value15\n",
      "b is greater\n"
     ]
    }
   ],
   "source": [
    "a = int(raw_input(\"enter first vaalue \"))\n",
    "b = int(raw_input(\"enter second value\"))\n",
    "c = int(raw_input(\"enter third value\"))\n",
    "if a>b and a>c:\n",
    "    print \"a is greater\"\n",
    "elif b>c:\n",
    "    print \"b is greater\"\n",
    "else:\n",
    "    print \"c is greater\""
   ]
  },
  {
   "cell_type": "markdown",
   "metadata": {},
   "source": [
    "# Task\n",
    "The direct trains between Hyderabad and chennai are chennai express, golconda express and egmore express. Now a person has to attend interview in chennai and he has to book the tickets from hyderabad to chennai. As per the interview schedule, the first importance is chennai express, second importance golconda express, then egmore express. If tickets not available for direct trains then for book the tickets for break journey via VJA. If tickets even not avilable for break journey the book tickets for Bus. even if tickets not available for Bus then cancel the interview\n",
    "\n",
    "# process\n",
    "1. verify for chennai express \n",
    "2. if -ve for first step then check for golconda express \n",
    "3. if -ve for second step then check for egmore express \n",
    "4. if -ve for third step then check for break journey\n",
    "5. if -ve for fourth step then check for bus\n",
    "6. if -ve for fifth step then cancel the interview\n"
   ]
  },
  {
   "cell_type": "code",
   "execution_count": 18,
   "metadata": {},
   "outputs": [
    {
     "name": "stdout",
     "output_type": "stream",
     "text": [
      "tickets has been booked for chennai express\n"
     ]
    }
   ],
   "source": [
    "tickets_chennai = True\n",
    "tickets_golconda = True\n",
    "tickets_egmore = True\n",
    "tickets_hyd = True\n",
    "tickets_vja = True\n",
    "gap = 4\n",
    "ticket_bus = True\n",
    "\n",
    "if tickets_chennai:\n",
    "    print \"tickets has been booked for chennai express\"\n",
    "elif tickets_golconda:\n",
    "    print \"tickets has been booked for golconda express\"\n",
    "elif tickets_egmore:\n",
    "    print \"tickets has been booked for egmore express\"\n",
    "elif tickets_hyd and tickets_vj and gap >= 2:\n",
    "    print \"tickets has been booked for break jouney\"\n",
    "elif ticket_bus:\n",
    "    print \"tickets has been booked for bus\"\n",
    "else:\n",
    "    print \"cancel the interview\""
   ]
  },
  {
   "cell_type": "code",
   "execution_count": 19,
   "metadata": {},
   "outputs": [
    {
     "name": "stdout",
     "output_type": "stream",
     "text": [
      "tickets has been booked for chennai express\n"
     ]
    }
   ],
   "source": [
    "tickets_chennai = True\n",
    "tickets_golconda = False\n",
    "tickets_egmore = True\n",
    "tickets_hyd = False\n",
    "tickets_vja = True\n",
    "gap = 4\n",
    "ticket_bus = True\n",
    "\n",
    "if tickets_chennai:\n",
    "    print \"tickets has been booked for chennai express\"\n",
    "elif tickets_golconda:\n",
    "    print \"tickets has been booked for golconda express\"\n",
    "elif tickets_egmore:\n",
    "    print \"tickets has been booked for egmore express\"\n",
    "elif tickets_hyd and tickets_vj and gap >= 2:\n",
    "    print \"tickets has been booked for break jouney\"\n",
    "elif ticket_bus:\n",
    "    print \"tickets has been booked for bus\"\n",
    "else:\n",
    "    print \"cancel the interview\""
   ]
  },
  {
   "cell_type": "code",
   "execution_count": 20,
   "metadata": {},
   "outputs": [
    {
     "name": "stdout",
     "output_type": "stream",
     "text": [
      "tickets has been booked for egmore express\n"
     ]
    }
   ],
   "source": [
    "tickets_chennai = False\n",
    "tickets_golconda = False\n",
    "tickets_egmore = True\n",
    "tickets_hyd = False\n",
    "tickets_vja = True\n",
    "gap = 4\n",
    "ticket_bus = True\n",
    "\n",
    "if tickets_chennai:\n",
    "    print \"tickets has been booked for chennai express\"\n",
    "elif tickets_golconda:\n",
    "    print \"tickets has been booked for golconda express\"\n",
    "elif tickets_egmore:\n",
    "    print \"tickets has been booked for egmore express\"\n",
    "elif tickets_hyd and tickets_vj and gap >= 2:\n",
    "    print \"tickets has been booked for break jouney\"\n",
    "elif ticket_bus:\n",
    "    print \"tickets has been booked for bus\"\n",
    "else:\n",
    "    print \"cancel the interview\""
   ]
  },
  {
   "cell_type": "code",
   "execution_count": 21,
   "metadata": {},
   "outputs": [
    {
     "name": "stdout",
     "output_type": "stream",
     "text": [
      "cancel the interview\n"
     ]
    }
   ],
   "source": [
    "tickets_chennai = False\n",
    "tickets_golconda = False\n",
    "tickets_egmore = False\n",
    "tickets_hyd = False\n",
    "tickets_vja = True\n",
    "gap = 4\n",
    "ticket_bus = False\n",
    "\n",
    "if tickets_chennai:\n",
    "    print \"tickets has been booked for chennai express\"\n",
    "elif tickets_golconda:\n",
    "    print \"tickets has been booked for golconda express\"\n",
    "elif tickets_egmore:\n",
    "    print \"tickets has been booked for egmore express\"\n",
    "elif tickets_hyd and tickets_vj and gap >= 2:\n",
    "    print \"tickets has been booked for break jouney\"\n",
    "elif ticket_bus:\n",
    "    print \"tickets has been booked for bus\"\n",
    "else:\n",
    "    print \"cancel the interview\""
   ]
  },
  {
   "cell_type": "markdown",
   "metadata": {},
   "source": [
    "# Loops\n"
   ]
  },
  {
   "cell_type": "markdown",
   "metadata": {},
   "source": [
    "If I want to execute a block of statements for a multiple of times, then I will go for loops\n",
    "1. How many times you want to execute the block of code\n",
    "2. when to come out of loop(based on condition)"
   ]
  },
  {
   "cell_type": "code",
   "execution_count": null,
   "metadata": {},
   "outputs": [],
   "source": []
  },
  {
   "cell_type": "code",
   "execution_count": 1,
   "metadata": {},
   "outputs": [
    {
     "name": "stdout",
     "output_type": "stream",
     "text": [
      "Hello\n",
      "Hello\n",
      "Hello\n",
      "Hello\n",
      "Hello\n"
     ]
    }
   ],
   "source": [
    "# I want to print Hello for 5 times\n",
    "print \"Hello\"\n",
    "print \"Hello\"\n",
    "print \"Hello\"\n",
    "print \"Hello\"\n",
    "print \"Hello\""
   ]
  },
  {
   "cell_type": "code",
   "execution_count": 2,
   "metadata": {},
   "outputs": [
    {
     "name": "stdout",
     "output_type": "stream",
     "text": [
      "Hello\n",
      "Hello\n",
      "Hello\n",
      "Hello\n",
      "Hello\n"
     ]
    }
   ],
   "source": [
    "i = 5\n",
    "while i >=1:\n",
    "    print \"Hello\"\n",
    "    i -= 1"
   ]
  },
  {
   "cell_type": "code",
   "execution_count": 3,
   "metadata": {},
   "outputs": [
    {
     "name": "stdout",
     "output_type": "stream",
     "text": [
      "Hello\n",
      "Hello\n",
      "Hello\n",
      "Hello\n",
      "Hello\n",
      "Hello\n",
      "Hello\n",
      "Hello\n",
      "Hello\n",
      "Hello\n"
     ]
    }
   ],
   "source": [
    "i = 10\n",
    "while i >=1:\n",
    "    print \"Hello\"\n",
    "    i -= 1"
   ]
  },
  {
   "cell_type": "code",
   "execution_count": 4,
   "metadata": {},
   "outputs": [],
   "source": [
    "#while <condition>:\n",
    "#    block of statements"
   ]
  },
  {
   "cell_type": "code",
   "execution_count": 5,
   "metadata": {},
   "outputs": [
    {
     "name": "stdout",
     "output_type": "stream",
     "text": [
      "starting Loop\n",
      "ending loop\n"
     ]
    }
   ],
   "source": [
    "i = 5\n",
    "print \"starting Loop\"\n",
    "while i == 10:\n",
    "    print \"Hello\"\n",
    "    print \"inside while\"\n",
    "print \"ending loop\""
   ]
  },
  {
   "cell_type": "code",
   "execution_count": 6,
   "metadata": {},
   "outputs": [
    {
     "name": "stdout",
     "output_type": "stream",
     "text": [
      "starting Loop\n",
      "#########\n",
      "Hello\n",
      "inside while\n",
      "#########\n",
      "Hello\n",
      "inside while\n",
      "#########\n",
      "Hello\n",
      "inside while\n",
      "#########\n",
      "Hello\n",
      "inside while\n",
      "ending loop\n"
     ]
    }
   ],
   "source": [
    "i = 5\n",
    "print \"starting Loop\"\n",
    "while i <= 8:\n",
    "    print \"#########\"\n",
    "    print \"Hello\"\n",
    "    print \"inside while\"\n",
    "    i += 1 # i = i+1\n",
    "print \"ending loop\""
   ]
  },
  {
   "cell_type": "code",
   "execution_count": null,
   "metadata": {},
   "outputs": [],
   "source": [
    "i = 5\n",
    "print \"starting Loop\"\n",
    "while i <= 8:\n",
    "    print \"#########\"\n",
    "    print \"Hello\"\n",
    "    print \"inside while\"\n",
    "print \"ending loop\""
   ]
  },
  {
   "cell_type": "markdown",
   "metadata": {},
   "source": [
    "# Task\n",
    "prime number?"
   ]
  },
  {
   "cell_type": "code",
   "execution_count": 8,
   "metadata": {},
   "outputs": [],
   "source": [
    "a = 17 # when I divide 17 with 1 and 17 then only should be zero. division with any number 1 and 17 should result non-zero remainder"
   ]
  },
  {
   "cell_type": "code",
   "execution_count": 12,
   "metadata": {},
   "outputs": [
    {
     "name": "stdout",
     "output_type": "stream",
     "text": [
      "it's a prime\n"
     ]
    }
   ],
   "source": [
    "x = 1\n",
    "c = 0\n",
    "a = 17\n",
    "while x<=a:\n",
    "    if a%x == 0:\n",
    "        c = c + 1\n",
    "    x += 1\n",
    "if c == 2:\n",
    "    print \"it's a prime\"\n",
    "else:\n",
    "    print \"it's not a prime\"\n",
    "        "
   ]
  },
  {
   "cell_type": "code",
   "execution_count": 13,
   "metadata": {},
   "outputs": [
    {
     "name": "stdout",
     "output_type": "stream",
     "text": [
      "2\n"
     ]
    }
   ],
   "source": [
    "print c"
   ]
  },
  {
   "cell_type": "code",
   "execution_count": 14,
   "metadata": {},
   "outputs": [
    {
     "name": "stdout",
     "output_type": "stream",
     "text": [
      "enter a value to check prime17\n",
      "it's a prime\n"
     ]
    }
   ],
   "source": [
    "a = int(raw_input(\"enter a value to check prime\"))\n",
    "x = 2\n",
    "c = 0\n",
    "while x<a:\n",
    "    if a%x == 0:\n",
    "        c = c + 1\n",
    "    x += 1\n",
    "if c == 0:\n",
    "    print \"it's a prime\"\n",
    "else:\n",
    "    print \"it's not a prime\""
   ]
  },
  {
   "cell_type": "code",
   "execution_count": 15,
   "metadata": {},
   "outputs": [
    {
     "name": "stdout",
     "output_type": "stream",
     "text": [
      "enter a value to check prime21\n",
      "it's not a prime\n"
     ]
    }
   ],
   "source": [
    "a = int(raw_input(\"enter a value to check prime\"))\n",
    "x = 2\n",
    "c = 0\n",
    "while x<a:\n",
    "    if a%x == 0:\n",
    "        c = c + 1\n",
    "    x += 1\n",
    "if c == 0:\n",
    "    print \"it's a prime\"\n",
    "else:\n",
    "    print \"it's not a prime\""
   ]
  },
  {
   "cell_type": "markdown",
   "metadata": {},
   "source": [
    "# Break\n",
    "break statement generally used with loop\n",
    "1. whenever break statement executes, it immediately leaves the loop\n",
    "2. it always should be used with conditional statement "
   ]
  },
  {
   "cell_type": "code",
   "execution_count": 16,
   "metadata": {},
   "outputs": [
    {
     "name": "stdout",
     "output_type": "stream",
     "text": [
      "Hello\n",
      "Hello\n",
      "Hello\n",
      "Hello\n",
      "out\n"
     ]
    }
   ],
   "source": [
    "i = 5\n",
    "while True:\n",
    "    print \"Hello\"\n",
    "    if i == 8:\n",
    "        break\n",
    "    i += 1\n",
    "print \"out\"\n",
    "        "
   ]
  },
  {
   "cell_type": "code",
   "execution_count": 17,
   "metadata": {},
   "outputs": [
    {
     "name": "stdout",
     "output_type": "stream",
     "text": [
      "Hello\n",
      "Hello\n",
      "Hello\n",
      "out\n"
     ]
    }
   ],
   "source": [
    "i = 5\n",
    "while True:\n",
    "    if i == 8:\n",
    "        break\n",
    "    i += 1\n",
    "    print \"Hello\"\n",
    "print \"out\""
   ]
  },
  {
   "cell_type": "code",
   "execution_count": 18,
   "metadata": {},
   "outputs": [
    {
     "name": "stdout",
     "output_type": "stream",
     "text": [
      "out\n"
     ]
    }
   ],
   "source": [
    "i = 5\n",
    "while True:\n",
    "    break\n",
    "    i += 1\n",
    "    print \"Hello\"\n",
    "print \"out\""
   ]
  },
  {
   "cell_type": "code",
   "execution_count": 19,
   "metadata": {},
   "outputs": [
    {
     "name": "stdout",
     "output_type": "stream",
     "text": [
      "Hello\n",
      "out\n"
     ]
    }
   ],
   "source": [
    "i = 5\n",
    "while True:\n",
    "    print \"Hello\"\n",
    "    break\n",
    "    i += 1   \n",
    "print \"out\""
   ]
  },
  {
   "cell_type": "code",
   "execution_count": 20,
   "metadata": {},
   "outputs": [
    {
     "name": "stdout",
     "output_type": "stream",
     "text": [
      "enter a value to check prime9\n",
      "2\n",
      "3\n",
      "it's not a prime\n"
     ]
    }
   ],
   "source": [
    "a = int(raw_input(\"enter a value to check prime\"))\n",
    "x = 2\n",
    "is_prime = True\n",
    "while x<a:\n",
    "    print x\n",
    "    if a%x == 0:\n",
    "        is_prime = False\n",
    "        break\n",
    "    x += 1\n",
    "if is_prime:\n",
    "    print \"it's a prime\"\n",
    "else:\n",
    "    print \"it's not a prime\""
   ]
  },
  {
   "cell_type": "code",
   "execution_count": 21,
   "metadata": {},
   "outputs": [
    {
     "name": "stdout",
     "output_type": "stream",
     "text": [
      "enter a value to check prime11\n",
      "2\n",
      "3\n",
      "4\n",
      "5\n",
      "6\n",
      "7\n",
      "8\n",
      "9\n",
      "10\n",
      "it's a prime\n"
     ]
    }
   ],
   "source": [
    "a = int(raw_input(\"enter a value to check prime\"))\n",
    "x = 2\n",
    "is_prime = True\n",
    "while x<a:\n",
    "    print x\n",
    "    if a%x == 0:\n",
    "        is_prime = False\n",
    "        break\n",
    "    x += 1\n",
    "if is_prime:\n",
    "    print \"it's a prime\"\n",
    "else:\n",
    "    print \"it's not a prime\""
   ]
  },
  {
   "cell_type": "code",
   "execution_count": 3,
   "metadata": {},
   "outputs": [
    {
     "name": "stdout",
     "output_type": "stream",
     "text": [
      "enter a numer=ber to check for prime 15\n",
      "non prime\n"
     ]
    }
   ],
   "source": [
    "a = int(raw_input(\"enter a numer=ber to check for prime \"))\n",
    "i = 1\n",
    "count = 0\n",
    "while i<=a:\n",
    "    if a%i == 0:\n",
    "        count += 1\n",
    "    i += 1\n",
    "if count == 2:\n",
    "    print \"prime\"\n",
    "else:\n",
    "    print \"non prime\""
   ]
  },
  {
   "cell_type": "code",
   "execution_count": 5,
   "metadata": {},
   "outputs": [
    {
     "name": "stdout",
     "output_type": "stream",
     "text": [
      "enter a numer=ber to check for prime 17\n",
      "prime\n"
     ]
    }
   ],
   "source": [
    "a = int(raw_input(\"enter a numer=ber to check for prime \"))\n",
    "i = 2\n",
    "count = 0\n",
    "while i<a:\n",
    "    if a%i == 0:\n",
    "        count += 1\n",
    "    i += 1\n",
    "if count == 0:\n",
    "    print \"prime\"\n",
    "else:\n",
    "    print \"non prime\""
   ]
  },
  {
   "cell_type": "code",
   "execution_count": 6,
   "metadata": {},
   "outputs": [
    {
     "name": "stdout",
     "output_type": "stream",
     "text": [
      "enter a numer=ber to check for prime 15\n",
      "non prime\n"
     ]
    }
   ],
   "source": [
    "a = int(raw_input(\"enter a numer=ber to check for prime \"))\n",
    "i = 2\n",
    "count = 0\n",
    "while i<a:\n",
    "    if a%i == 0:\n",
    "        count += 1\n",
    "    i += 1\n",
    "if count == 0:\n",
    "    print \"prime\"\n",
    "else:\n",
    "    print \"non prime\""
   ]
  },
  {
   "cell_type": "code",
   "execution_count": 9,
   "metadata": {},
   "outputs": [
    {
     "name": "stdout",
     "output_type": "stream",
     "text": [
      "enter a numer=ber to check for prime 15\n",
      "non prime\n"
     ]
    }
   ],
   "source": [
    "a = int(raw_input(\"enter a numer=ber to check for prime \"))\n",
    "i = 2\n",
    "is_prime = True\n",
    "while i<a:\n",
    "    if a%i == 0:\n",
    "        is_prime = False\n",
    "        break\n",
    "    i += 1\n",
    "if is_prime:\n",
    "    print \"prime\"\n",
    "else:\n",
    "    print \"non prime\""
   ]
  },
  {
   "cell_type": "code",
   "execution_count": 10,
   "metadata": {},
   "outputs": [
    {
     "name": "stdout",
     "output_type": "stream",
     "text": [
      "enter a numer=ber to check for prime 15\n",
      "prime\n"
     ]
    }
   ],
   "source": [
    "a = int(raw_input(\"enter a numer=ber to check for prime \"))\n",
    "i = 2\n",
    "is_prime = False\n",
    "while i<a:\n",
    "    if a%i == 0:\n",
    "        is_prime = True\n",
    "        break\n",
    "    i += 1\n",
    "if is_prime:\n",
    "    print \"prime\"\n",
    "else:\n",
    "    print \"non prime\""
   ]
  },
  {
   "cell_type": "code",
   "execution_count": 11,
   "metadata": {},
   "outputs": [
    {
     "name": "stdout",
     "output_type": "stream",
     "text": [
      "enter a numer=ber to check for prime 15\n",
      "non prime\n"
     ]
    }
   ],
   "source": [
    "a = int(raw_input(\"enter a numer=ber to check for prime \"))\n",
    "i = 2\n",
    "is_prime = False\n",
    "while i<a:\n",
    "    if a%i == 0:\n",
    "        is_prime = True\n",
    "        break\n",
    "    i += 1\n",
    "if not is_prime:\n",
    "    print \"prime\"\n",
    "else:\n",
    "    print \"non prime\""
   ]
  },
  {
   "cell_type": "code",
   "execution_count": null,
   "metadata": {},
   "outputs": [],
   "source": []
  }
 ],
 "metadata": {
  "kernelspec": {
   "display_name": "Python 2",
   "language": "python",
   "name": "python2"
  },
  "language_info": {
   "codemirror_mode": {
    "name": "ipython",
    "version": 2
   },
   "file_extension": ".py",
   "mimetype": "text/x-python",
   "name": "python",
   "nbconvert_exporter": "python",
   "pygments_lexer": "ipython2",
   "version": "2.7.15"
  }
 },
 "nbformat": 4,
 "nbformat_minor": 2
}
